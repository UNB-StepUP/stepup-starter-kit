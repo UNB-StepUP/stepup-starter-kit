{
 "cells": [
  {
   "cell_type": "markdown",
   "metadata": {},
   "source": [
    "# Starter Kit: StepUP P150 - Dataset Competition\n",
    "\n",
    "This notebook provides example code for the StepUP P150 Dataset Competition at IJCB 2025"
   ]
  },
  {
   "cell_type": "code",
   "execution_count": 3,
   "metadata": {},
   "outputs": [],
   "source": [
    "import numpy as np\n",
    "import pandas as pd\n",
    "import matplotlib.pyplot as plt\n",
    "\n",
    "import pathlib\n",
    "import itertools\n",
    "import zipfile\n",
    "import os"
   ]
  },
  {
   "cell_type": "markdown",
   "metadata": {},
   "source": [
    "# Specify Dataset Filepaths\n",
    "\n",
    "Before running this notebook, download the [competition dataset](https://unbcloud-my.sharepoint.com/my?id=%2Fpersonal%2Fq4k8p%5Funb%5Fca%2FDocuments%2FPermalinks%2FIJCB%202025%20Dataset%20Competition%20%2D%20Footstep%20Recognition&ga=1) and update the filepath below."
   ]
  },
  {
   "cell_type": "code",
   "execution_count": 4,
   "metadata": {},
   "outputs": [],
   "source": [
    "# TODO: Update this filepath for your environment.\n",
    "dataset_root = pathlib.Path('/mnt/c/Users/aaron/OneDrive - University of New Brunswick/Permalinks/IJCB 2025 Dataset Competition - Footstep Recognition')\n",
    "\n",
    "\n",
    "pretraining_dataset = dataset_root / '1 - StepUP-P150'\n",
    "gallary_dataset = dataset_root / '2 - Gallery'\n",
    "probe_dataset = dataset_root / '3 - Probe'\n",
    "\n",
    "# Confirm that the dataset folders exist before contining.\n",
    "# If this results in an error, double check that you have downloaded and extracted the dataset successfully and correctly updated the filepath above.\n",
    "for filepath in [pretraining_dataset, gallary_dataset, probe_dataset]:\n",
    "  assert(filepath.exists())"
   ]
  },
  {
   "cell_type": "markdown",
   "metadata": {},
   "source": [
    "# Phase 1: Model Pretraining\n",
    "\n",
    "In this competition, the StepUP-P150 dataset will be used to pretrain a model for footstep verification.\n",
    "\n",
    "This section provides example code for data loading and model pretraining."
   ]
  },
  {
   "cell_type": "markdown",
   "metadata": {},
   "source": [
    "## Load Metadata"
   ]
  },
  {
   "cell_type": "code",
   "execution_count": 5,
   "metadata": {},
   "outputs": [],
   "source": [
    "# A function to load metadata for StepUP-P150 trial(s). Loads metadata for entire dataset by default, but can be filtered as desired.\n",
    "# Arguments should be provided as lists, even when they contain only a single value (e.g., speeds = ['W1'])\n",
    "# \n",
    "# Returns a pandas.Dataframe, which can be used to filter the footstep samples used for model training in the data loader, below. \n",
    "\n",
    "participant_ids = range(1, 151)\n",
    "footwears = 'BF ST P1 P2'.split()\n",
    "speeds = 'W1 W2 W3 W4'.split()\n",
    "\n",
    "\n",
    "def load_metadata(participant_ids=participant_ids, footwears=footwears, speeds=speeds):\n",
    "  dfs = []\n",
    "\n",
    "  for p, f, s in itertools.product(participant_ids, footwears, speeds):\n",
    "    filename = pretraining_dataset / f'{p:03}' / f / s / 'metadata.csv'\n",
    "    dfs.append(pd.read_csv(filename))\n",
    "\n",
    "  return pd.concat(dfs).reset_index(drop=True)"
   ]
  },
  {
   "cell_type": "code",
   "execution_count": 6,
   "metadata": {},
   "outputs": [
    {
     "data": {
      "text/plain": [
       "(14056, 22)"
      ]
     },
     "execution_count": 6,
     "metadata": {},
     "output_type": "execute_result"
    }
   ],
   "source": [
    "# To make this example script run quickly, we're only loading the first 10 participants\n",
    "# Remove the `participant_ids` argument below to load metadata for the entire dataset.\n",
    "\n",
    "metadata = load_metadata(participant_ids=range(1, 11))\n",
    "metadata.shape"
   ]
  },
  {
   "cell_type": "code",
   "execution_count": 7,
   "metadata": {},
   "outputs": [
    {
     "data": {
      "text/html": [
       "<div>\n",
       "<style scoped>\n",
       "    .dataframe tbody tr th:only-of-type {\n",
       "        vertical-align: middle;\n",
       "    }\n",
       "\n",
       "    .dataframe tbody tr th {\n",
       "        vertical-align: top;\n",
       "    }\n",
       "\n",
       "    .dataframe thead th {\n",
       "        text-align: right;\n",
       "    }\n",
       "</style>\n",
       "<table border=\"1\" class=\"dataframe\">\n",
       "  <thead>\n",
       "    <tr style=\"text-align: right;\">\n",
       "      <th></th>\n",
       "      <th>ParticipantID</th>\n",
       "      <th>Footwear</th>\n",
       "      <th>Speed</th>\n",
       "      <th>FootstepID</th>\n",
       "      <th>PassID</th>\n",
       "      <th>StartFrame</th>\n",
       "      <th>EndFrame</th>\n",
       "      <th>Ymin</th>\n",
       "      <th>Ymax</th>\n",
       "      <th>Xmin</th>\n",
       "      <th>...</th>\n",
       "      <th>Side</th>\n",
       "      <th>Standing</th>\n",
       "      <th>Incomplete</th>\n",
       "      <th>Rscore</th>\n",
       "      <th>Outlier</th>\n",
       "      <th>Exclude</th>\n",
       "      <th>RotationAngle</th>\n",
       "      <th>FootLength</th>\n",
       "      <th>FootWidth</th>\n",
       "      <th>MeanGRF</th>\n",
       "    </tr>\n",
       "  </thead>\n",
       "  <tbody>\n",
       "    <tr>\n",
       "      <th>0</th>\n",
       "      <td>1</td>\n",
       "      <td>BF</td>\n",
       "      <td>W1</td>\n",
       "      <td>0</td>\n",
       "      <td>0</td>\n",
       "      <td>212</td>\n",
       "      <td>288</td>\n",
       "      <td>76</td>\n",
       "      <td>131</td>\n",
       "      <td>167</td>\n",
       "      <td>...</td>\n",
       "      <td>Right</td>\n",
       "      <td>0</td>\n",
       "      <td>0</td>\n",
       "      <td>0.248545</td>\n",
       "      <td>0</td>\n",
       "      <td>0</td>\n",
       "      <td>4.246666</td>\n",
       "      <td>53.0</td>\n",
       "      <td>19.0</td>\n",
       "      <td>23270.396040</td>\n",
       "    </tr>\n",
       "    <tr>\n",
       "      <th>1</th>\n",
       "      <td>1</td>\n",
       "      <td>BF</td>\n",
       "      <td>W1</td>\n",
       "      <td>1</td>\n",
       "      <td>0</td>\n",
       "      <td>276</td>\n",
       "      <td>348</td>\n",
       "      <td>233</td>\n",
       "      <td>291</td>\n",
       "      <td>191</td>\n",
       "      <td>...</td>\n",
       "      <td>Left</td>\n",
       "      <td>0</td>\n",
       "      <td>0</td>\n",
       "      <td>1.126682</td>\n",
       "      <td>0</td>\n",
       "      <td>0</td>\n",
       "      <td>1.618202</td>\n",
       "      <td>55.0</td>\n",
       "      <td>20.0</td>\n",
       "      <td>25024.029703</td>\n",
       "    </tr>\n",
       "    <tr>\n",
       "      <th>2</th>\n",
       "      <td>1</td>\n",
       "      <td>BF</td>\n",
       "      <td>W1</td>\n",
       "      <td>2</td>\n",
       "      <td>0</td>\n",
       "      <td>331</td>\n",
       "      <td>407</td>\n",
       "      <td>385</td>\n",
       "      <td>439</td>\n",
       "      <td>167</td>\n",
       "      <td>...</td>\n",
       "      <td>Right</td>\n",
       "      <td>0</td>\n",
       "      <td>0</td>\n",
       "      <td>0.511779</td>\n",
       "      <td>0</td>\n",
       "      <td>0</td>\n",
       "      <td>4.133031</td>\n",
       "      <td>53.0</td>\n",
       "      <td>19.0</td>\n",
       "      <td>19953.871287</td>\n",
       "    </tr>\n",
       "    <tr>\n",
       "      <th>3</th>\n",
       "      <td>1</td>\n",
       "      <td>BF</td>\n",
       "      <td>W1</td>\n",
       "      <td>3</td>\n",
       "      <td>0</td>\n",
       "      <td>393</td>\n",
       "      <td>469</td>\n",
       "      <td>537</td>\n",
       "      <td>593</td>\n",
       "      <td>189</td>\n",
       "      <td>...</td>\n",
       "      <td>Left</td>\n",
       "      <td>0</td>\n",
       "      <td>0</td>\n",
       "      <td>0.188634</td>\n",
       "      <td>0</td>\n",
       "      <td>0</td>\n",
       "      <td>3.611146</td>\n",
       "      <td>55.0</td>\n",
       "      <td>18.0</td>\n",
       "      <td>20826.940594</td>\n",
       "    </tr>\n",
       "    <tr>\n",
       "      <th>4</th>\n",
       "      <td>1</td>\n",
       "      <td>BF</td>\n",
       "      <td>W1</td>\n",
       "      <td>4</td>\n",
       "      <td>0</td>\n",
       "      <td>454</td>\n",
       "      <td>498</td>\n",
       "      <td>689</td>\n",
       "      <td>710</td>\n",
       "      <td>183</td>\n",
       "      <td>...</td>\n",
       "      <td>Right</td>\n",
       "      <td>0</td>\n",
       "      <td>1</td>\n",
       "      <td>7.175712</td>\n",
       "      <td>1</td>\n",
       "      <td>1</td>\n",
       "      <td>22.316611</td>\n",
       "      <td>21.0</td>\n",
       "      <td>13.0</td>\n",
       "      <td>70282.683168</td>\n",
       "    </tr>\n",
       "  </tbody>\n",
       "</table>\n",
       "<p>5 rows × 22 columns</p>\n",
       "</div>"
      ],
      "text/plain": [
       "   ParticipantID Footwear Speed  FootstepID  PassID  StartFrame  EndFrame  \\\n",
       "0              1       BF    W1           0       0         212       288   \n",
       "1              1       BF    W1           1       0         276       348   \n",
       "2              1       BF    W1           2       0         331       407   \n",
       "3              1       BF    W1           3       0         393       469   \n",
       "4              1       BF    W1           4       0         454       498   \n",
       "\n",
       "   Ymin  Ymax  Xmin  ...   Side  Standing Incomplete    Rscore  Outlier  \\\n",
       "0    76   131   167  ...  Right         0          0  0.248545        0   \n",
       "1   233   291   191  ...   Left         0          0  1.126682        0   \n",
       "2   385   439   167  ...  Right         0          0  0.511779        0   \n",
       "3   537   593   189  ...   Left         0          0  0.188634        0   \n",
       "4   689   710   183  ...  Right         0          1  7.175712        1   \n",
       "\n",
       "   Exclude  RotationAngle  FootLength  FootWidth       MeanGRF  \n",
       "0        0       4.246666        53.0       19.0  23270.396040  \n",
       "1        0       1.618202        55.0       20.0  25024.029703  \n",
       "2        0       4.133031        53.0       19.0  19953.871287  \n",
       "3        0       3.611146        55.0       18.0  20826.940594  \n",
       "4        1      22.316611        21.0       13.0  70282.683168  \n",
       "\n",
       "[5 rows x 22 columns]"
      ]
     },
     "execution_count": 7,
     "metadata": {},
     "output_type": "execute_result"
    }
   ],
   "source": [
    "metadata.head()"
   ]
  },
  {
   "cell_type": "markdown",
   "metadata": {},
   "source": [
    "## Filter Metadata"
   ]
  },
  {
   "cell_type": "code",
   "execution_count": 8,
   "metadata": {},
   "outputs": [
    {
     "data": {
      "text/plain": [
       "(9841, 22)"
      ]
     },
     "execution_count": 8,
     "metadata": {},
     "output_type": "execute_result"
    }
   ],
   "source": [
    "# In our baseline model, we've chosen to omit all `walk_speed == W2` footstep records, as well as all those recommended for exclusion by the StepUP authors (see paper for details)\n",
    "\n",
    "filtered_metadata = metadata.query('Speed != \"W2\" and Exclude == False')\n",
    "filtered_metadata.shape"
   ]
  },
  {
   "cell_type": "markdown",
   "metadata": {},
   "source": [
    "## Create Data Loader"
   ]
  },
  {
   "cell_type": "code",
   "execution_count": 26,
   "metadata": {},
   "outputs": [],
   "source": [
    "def load_footstep(participant_id, footwear, speed, footstep_id):\n",
    "  npz_file = pretraining_dataset / f'{participant_id:03}' / footwear / speed / 'pipeline_1.npz'\n",
    "  return np.load(npz_file)[str(footstep_id)]"
   ]
  },
  {
   "cell_type": "code",
   "execution_count": 27,
   "metadata": {},
   "outputs": [
    {
     "data": {
      "text/plain": [
       "(101, 75, 40)"
      ]
     },
     "execution_count": 27,
     "metadata": {},
     "output_type": "execute_result"
    },
    {
     "data": {
      "image/png": "[encoded data removed]",
      "text/plain": [
       "<Figure size 640x480 with 1 Axes>"
      ]
     },
     "metadata": {},
     "output_type": "display_data"
    }
   ],
   "source": [
    "d = load_footstep(100, 'ST', 'W3', 70)\n",
    "plt.imshow(d.max(axis=(0)))\n",
    "d.shape"
   ]
  },
  {
   "cell_type": "markdown",
   "metadata": {},
   "source": [
    "## Train Model"
   ]
  },
  {
   "cell_type": "code",
   "execution_count": null,
   "metadata": {},
   "outputs": [],
   "source": []
  },
  {
   "cell_type": "markdown",
   "metadata": {},
   "source": [
    "# Phase 2: User Enrolment"
   ]
  },
  {
   "cell_type": "code",
   "execution_count": null,
   "metadata": {},
   "outputs": [],
   "source": []
  },
  {
   "cell_type": "markdown",
   "metadata": {},
   "source": [
    "# Phase 3: Verification Attempts"
   ]
  },
  {
   "cell_type": "code",
   "execution_count": 12,
   "metadata": {},
   "outputs": [],
   "source": [
    "predictions = np.random.random((10000))\n",
    "threshold = np.array([0.65])"
   ]
  },
  {
   "cell_type": "markdown",
   "metadata": {},
   "source": [
    "# Prepare CodaBench Submission"
   ]
  },
  {
   "cell_type": "code",
   "execution_count": 13,
   "metadata": {},
   "outputs": [],
   "source": [
    "# This function packages your model predictions into a format suitable for submission on CodaBench.\n",
    "#\n",
    "#  - predictions: (10000,) element numpy array in range [0.0,1.0] \n",
    "#  - decision threshold: (1,) element numpy array in range [0.0, 1.0]\n",
    "#  - output: (optional) filename of created zipfile\n",
    "\n",
    "def package_predictions_for_submission(predictions, decision_threshold, output=pathlib.Path('./submission.zip')):\n",
    "  \n",
    "  filename_variable_pairs = {\n",
    "    'thresholds.txt': decision_threshold,\n",
    "    'predictions.txt': predictions,\n",
    "  }\n",
    "\n",
    "  # The most straightforward way to populate a zip file is with actual files on disk\n",
    "  # Therefore, temporarily create each file in the working directory  \n",
    "  for f, d in filename_variable_pairs.items():\n",
    "    np.savetxt(f, d)\n",
    "\n",
    "  # Create the zip file\n",
    "  with zipfile.ZipFile(output, mode='w') as z:\n",
    "    for f, _ in filename_variable_pairs.items():\n",
    "      z.write(f)\n",
    "  \n",
    "  # ...the cleanup after ourselves to avoid clutter\n",
    "  for f, _ in filename_variable_pairs.items():\n",
    "    os.remove(f)\n",
    "\n",
    "  print(f'Successfully created CodaBench submission file: `{output}`. Upload this zipfile to CodaBench to complete your submission')"
   ]
  },
  {
   "cell_type": "code",
   "execution_count": 14,
   "metadata": {},
   "outputs": [
    {
     "name": "stdout",
     "output_type": "stream",
     "text": [
      "Successfully created CodaBench submission file: `submission.zip`. Upload this zipfile to CodaBench to complete your submission\n"
     ]
    }
   ],
   "source": [
    "package_predictions_for_submission(predictions, threshold)"
   ]
  }
 ],
 "metadata": {
  "kernelspec": {
   "display_name": ".venv",
   "language": "python",
   "name": "python3"
  },
  "language_info": {
   "codemirror_mode": {
    "name": "ipython",
    "version": 3
   },
   "file_extension": ".py",
   "mimetype": "text/x-python",
   "name": "python",
   "nbconvert_exporter": "python",
   "pygments_lexer": "ipython3",
   "version": "3.8.10"
  }
 },
 "nbformat": 4,
 "nbformat_minor": 2
}
